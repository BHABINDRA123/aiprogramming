{
 "cells": [
  {
   "cell_type": "markdown",
   "metadata": {},
   "source": [
    "# Individual Project Theme 3"
   ]
  },
  {
   "cell_type": "markdown",
   "metadata": {},
   "source": [
    "## Simple Calculator"
   ]
  },
  {
   "cell_type": "markdown",
   "metadata": {},
   "source": [
    "**How to use this notebook and complete the project?**\n",
    "\n",
    "1. You need to answer all required questions by answering in the markdown cell.\n",
    "2. Read the instruction and fill in the #todo sections.\n",
    "3. Run all the cells to store the results of each codes.\n",
    "4. Save this notebook by clicking on `File`, then click `Download as`, choose `HTML`.\n",
    "5. Push this notebook to your GitHub reporitory by creating a new repository, named `AIP_IndividualProject`. Set this repository as `Private` until the day of your submission, which is on *3rd July 2019, 1.30 PM*."
   ]
  },
  {
   "cell_type": "markdown",
   "metadata": {},
   "source": [
    "**Introduction**\n",
    "\n",
    "Imagine you are going to program a simple calculator like the picture below.\n",
    "<img src=\"calculator.png\" width=\"200\" height=\"140\" align=\"left\">\n",
    "Basic calculations for calculator, are addition, subtraction, multiplication and division. Note that the calculator is not going to do a calculation for whole numbers only, decimals are also involved. "
   ]
  },
  {
   "cell_type": "markdown",
   "metadata": {},
   "source": [
    "**Question 1**:\n",
    "\n",
    "Draw a flowchart to write the program of this task. You may draw a flowchart by using *powerpoint*, then save it as a picture in `.jpg` or `.png`. Then, use this command to the *Answer* column below.\n",
    "`<img src=_____.jpg>`"
   ]
  },
  {
   "cell_type": "markdown",
   "metadata": {},
   "source": [
    "**Answer**:<img src=\"flowchart.jpg\">"
   ]
  },
  {
   "cell_type": "markdown",
   "metadata": {},
   "source": [
    "**Step 1**:\n",
    "\n",
    "#TODO \n",
    "\n",
    "Ask users for input. We’ll start writing our program at the point where the human enters the numbers that they would like the computer to work with. For this program, we would like the user to input two numbers, so let’s have the program ask for two numbers. When asking for input, we should include a space at the end of our string so that there is a space between the user’s input and the asked string."
   ]
  },
  {
   "cell_type": "code",
   "execution_count": 16,
   "metadata": {},
   "outputs": [
    {
     "name": "stdout",
     "output_type": "stream",
     "text": [
      "Enter First Number: 5\n",
      "Enter Second Number: 10\n"
     ]
    }
   ],
   "source": [
    "#TODO\n",
    "#Ask user for two inputs\n",
    "\n",
    "number_1 = input(\"Enter First Number: \")\n",
    "number_2 = input(\"Enter Second Number: \") "
   ]
  },
  {
   "cell_type": "markdown",
   "metadata": {},
   "source": [
    "**Step 2**\n",
    "\n",
    "#TODO\n",
    "\n",
    "By using `try` and `except` statement, write down a function to determine whether input numbers are integers or decimals."
   ]
  },
  {
   "cell_type": "code",
   "execution_count": 28,
   "metadata": {},
   "outputs": [
    {
     "name": "stdout",
     "output_type": "stream",
     "text": [
      "First Value:  5\n",
      "Second Value:  10\n",
      "First Value:  5\n",
      "Second Value:  10\n"
     ]
    }
   ],
   "source": [
    "#TODO \n",
    "def number_type(number):\n",
    "    try: \n",
    "        val1 = int(number_1)\n",
    "        val2 = int(number_2)\n",
    "        \n",
    "        print(\"First Value: \",val1)\n",
    "        print(\"Second Value: \",val2)\n",
    "    except ValueError:\n",
    "        print(\"Please input interger number only!!!\") \n",
    "                                        #整数しか受け付けないの？小数の場合も考えなさいと指示があったのに…\n",
    "\n",
    "num1 = number_type(val1)\n",
    "num2 = number_type(val2)                #このままだとnum1とnum2はどちらもNonetype"
   ]
  },
  {
   "cell_type": "markdown",
   "metadata": {},
   "source": [
    "**Step 3**\n",
    "\n",
    "#TODO\n",
    "\n",
    "We’ll name the function `calculate()` and add an additional layer of indentation within the function itself. Function `calculate()` is defining arithmetic operations."
   ]
  },
  {
   "cell_type": "code",
   "execution_count": 18,
   "metadata": {
    "scrolled": true
   },
   "outputs": [],
   "source": [
    "def add(num1, num2): 　　　　　　　　　#Val1とVal2の間違いでは？\n",
    "    return num1 + num2 　　　　　　　　#num1とnum2はどちらもNonetypeなのに計算できないはず\n",
    "  \n",
    "\n",
    "def subtract(num1, num2): \n",
    "    return num1 - num2 \n",
    "\n",
    "def multiply(num1, num2): \n",
    "    return num1 * num2 \n",
    "  \n",
    "\n",
    "def divide(num1, num2): \n",
    "    return num1 / num2 \n",
    "  "
   ]
  },
  {
   "cell_type": "markdown",
   "metadata": {},
   "source": [
    "**Step 4**\n",
    "\n",
    "#TODO\n",
    "\n",
    "Define an `again()` function to ask user either he/she wants to do a a calculation again or not."
   ]
  },
  {
   "cell_type": "code",
   "execution_count": 26,
   "metadata": {},
   "outputs": [
    {
     "name": "stdout",
     "output_type": "stream",
     "text": [
      "Please select operation -\n",
      "1. Add\n",
      "2. Subtract\n",
      "3. Multiply\n",
      "4. Divide\n",
      "\n",
      "Input number from 1 t0 4 to perform the operation: 1\n",
      "Invalid input\n"
     ]
    }
   ],
   "source": [
    "print(\"Please select operation -\\n\"\n",
    "        \"1. Add\\n\" \n",
    "        \"2. Subtract\\n\" \n",
    "        \"3. Multiply\\n\"\n",
    "        \"4. Divide\\n\") \n",
    "select = int(input(\"Input number from 1 t0 4 to perform the operation: \")) \n",
    "\n",
    "if select == '1': 　　　　　　#if select == 1　の間違いでは？このままだと１～４何を入力しても結果がInvalid input\n",
    "     print(add(num1,num2)) 　#（if select == 1に直してもnum1とnum2はNonetypeなので計算できない\n",
    "elif select == '2': 　　　　　　#直してあげたいけど、間違いが多すぎて...とりあえず下に書きました\n",
    "    print(subtract(num1,num2))\n",
    "  \n",
    "elif select == '3': \n",
    "    print(multiply(num1,num2)) \n",
    "  \n",
    "elif select == '4': \n",
    "    print(divide(num1,num2))\n",
    "else: \n",
    "    print(\"Invalid input\") "
   ]
  },
  {
   "cell_type": "markdown",
   "metadata": {},
   "source": [
    "**BONUS**\n",
    "\n",
    "Add complicated operations in your calculator. For example, calculation a square root or root of a number by using $\\surd$"
   ]
  },
  {
   "cell_type": "code",
   "execution_count": null,
   "metadata": {},
   "outputs": [],
   "source": []
  },
  {
   "cell_type": "markdown",
   "metadata": {},
   "source": [
    "**Question 2**:\n",
    "\n",
    "How would you like to improve your calculator codes?"
   ]
  },
  {
   "cell_type": "markdown",
   "metadata": {},
   "source": [
    "**Answer**:"
   ]
  },
  {
   "cell_type": "code",
   "execution_count": 15,
   "metadata": {},
   "outputs": [
    {
     "name": "stdout",
     "output_type": "stream",
     "text": [
      "Enter First Number: 1\n",
      "Enter Second Number: 2.5\n",
      "Please select operation -\n",
      "1. Add\n",
      "2. Subtract\n",
      "3. Multiply\n",
      "4. Divide\n",
      "\n",
      "Input number from 1 t0 4 to perform the operation: 4\n",
      "0.4\n"
     ]
    }
   ],
   "source": [
    "from decimal import *      #小数を正確に計算させるため\n",
    "\n",
    "number_1 = input(\"Enter First Number: \")\n",
    "number_2 = input(\"Enter Second Number: \") \n",
    "\n",
    "def number_type(number):\n",
    "    try: \n",
    "        if number % 1 == 0:\n",
    "            return int(number)\n",
    "        else :\n",
    "            return number\n",
    "        pass\n",
    "    except ValueError:\n",
    "        print(\"Please input a number\")\n",
    "        pass\n",
    "                                       \n",
    "num1 = number_type(val1)\n",
    "num2 = number_type(val2) \n",
    "\n",
    "def add(num1, num2):\n",
    "    return Decimal(number_1) + Decimal(number_2)\n",
    "  \n",
    "\n",
    "def subtract(num1, num2): \n",
    "    return Decimal(number_1) - Decimal(number_2)\n",
    "\n",
    "def multiply(num1, num2):\n",
    "    return Decimal(number_1) * Decimal(number_2)\n",
    "  \n",
    "def divide(num1, num2):\n",
    "    return Decimal(number_1) / Decimal(number_2)\n",
    "\n",
    "print(\"Please select operation -\\n\"\n",
    "        \"1. Add\\n\" \n",
    "        \"2. Subtract\\n\" \n",
    "        \"3. Multiply\\n\"\n",
    "        \"4. Divide\\n\") \n",
    "select = int(input(\"Input number from 1 t0 4 to perform the operation: \")) \n",
    "\n",
    "if select == 1:\n",
    "     print(add(num1,num2))\n",
    "elif select == 2:\n",
    "    print(subtract(num1,num2))\n",
    "  \n",
    "elif select == 3: \n",
    "    print(multiply(num1,num2)) \n",
    "  \n",
    "elif select == 4: \n",
    "    print(divide(num1,num2))\n",
    "else: \n",
    "    print(\"Invalid input\") "
   ]
  }
 ],
 "metadata": {
  "kernelspec": {
   "display_name": "Python 3",
   "language": "python",
   "name": "python3"
  },
  "language_info": {
   "codemirror_mode": {
    "name": "ipython",
    "version": 3
   },
   "file_extension": ".py",
   "mimetype": "text/x-python",
   "name": "python",
   "nbconvert_exporter": "python",
   "pygments_lexer": "ipython3",
   "version": "3.7.3"
  }
 },
 "nbformat": 4,
 "nbformat_minor": 2
}
